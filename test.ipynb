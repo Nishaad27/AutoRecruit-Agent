{
 "cells": [
  {
   "cell_type": "code",
   "execution_count": 41,
   "id": "1e0bdf8e",
   "metadata": {},
   "outputs": [],
   "source": [
    "names = []\n",
    "email_ids = []"
   ]
  },
  {
   "cell_type": "code",
   "execution_count": 42,
   "id": "62359c4a",
   "metadata": {},
   "outputs": [
    {
     "name": "stdout",
     "output_type": "stream",
     "text": [
      "('John Doe', 'john.doe@email.com')\n",
      "('Olivia Martinez', 'olivia.martinez@email.com')\n",
      "('Liam Turner', 'liam.turner@email.com')\n",
      "('Ava Scott', 'ava.scott@email.com')\n",
      "('Ethan Hall', 'ethan.hall@email.com')\n",
      "('Daniel Adams', 'daniel.adams@email.com')\n",
      "('Chloe Bennett', 'chloe.bennett@email.com')\n",
      "('Noah Carter', 'noah.carter@email.com')\n",
      "('Mia Foster', 'mia.foster@email.com')\n",
      "('William Brooks', 'william.brooks@email.com')\n",
      "('Jane Smith', 'jane.smith@email.com')\n",
      "('Lily Parker', 'lily.parker@email.com')\n",
      "('Mark Johnson', 'mark.johnson@email.com')\n",
      "('Sarah Lee', 'sarah.lee@email.com')\n",
      "('Robert Wilson', 'robert.wilson@email.com')\n",
      "('Emma Johnson', 'emma.johnson@email.com')\n",
      "('Rahul Mehta', 'rahul.mehta@email.com')\n",
      "('Sophia Lee', 'sophia.lee@email.com')\n",
      "('Carlos Rivera', 'carlos.rivera@email.com')\n"
     ]
    }
   ],
   "source": [
    "import sqlite3\n",
    "import pandas as pd\n",
    "\n",
    "# === CONFIG ===\n",
    "db_name = \"shortlisted_candidates.db\"  # <-- Replace with your actual DB name\n",
    "\n",
    "try:\n",
    "    # Connect to SQLite DB\n",
    "    conn = sqlite3.connect(db_name)\n",
    "\n",
    "    # Query the table\n",
    "    query = \"SELECT NAME,EMAIL_ADDRESS FROM SHORTLISTED_CANDIDATES\"\n",
    "   # df = pd.read_sql_query(query, conn)\n",
    "    cursor = conn.cursor()\n",
    "    result =  cursor.execute(query)\n",
    "\n",
    "    # Show results\n",
    "   # print(\"✅ Data fetched successfully:\")\n",
    "    #print(df)\n",
    "    for row in result:\n",
    "        print(row)\n",
    "        names.append(row[0])\n",
    "        email_ids.append(row[1])    \n",
    "\n",
    "    conn.close()\n",
    "\n",
    "except sqlite3.Error as e:\n",
    "    print(f\"❌ SQLite error: {e}\")\n"
   ]
  },
  {
   "cell_type": "code",
   "execution_count": 37,
   "id": "cbb20dad",
   "metadata": {},
   "outputs": [],
   "source": [
    "df  = pd.read_csv(\"shortlisted_candidates.csv\")"
   ]
  },
  {
   "cell_type": "code",
   "execution_count": 38,
   "id": "375fada9",
   "metadata": {},
   "outputs": [
    {
     "data": {
      "text/html": [
       "<div>\n",
       "<style scoped>\n",
       "    .dataframe tbody tr th:only-of-type {\n",
       "        vertical-align: middle;\n",
       "    }\n",
       "\n",
       "    .dataframe tbody tr th {\n",
       "        vertical-align: top;\n",
       "    }\n",
       "\n",
       "    .dataframe thead th {\n",
       "        text-align: right;\n",
       "    }\n",
       "</style>\n",
       "<table border=\"1\" class=\"dataframe\">\n",
       "  <thead>\n",
       "    <tr style=\"text-align: right;\">\n",
       "      <th></th>\n",
       "      <th>NAME</th>\n",
       "      <th>MATCH_PERCENTAGE</th>\n",
       "      <th>PHONE_NUMBER</th>\n",
       "      <th>EMAIL_ADDRESS</th>\n",
       "      <th>SKILLS</th>\n",
       "      <th>EXPERIENCE</th>\n",
       "      <th>RESUME_CONTENT</th>\n",
       "    </tr>\n",
       "  </thead>\n",
       "  <tbody>\n",
       "    <tr>\n",
       "      <th>0</th>\n",
       "      <td>John Doe</td>\n",
       "      <td>85</td>\n",
       "      <td>+1 123 -456-7890</td>\n",
       "      <td>john.doe@email.com</td>\n",
       "      <td>JavaScript, Python, SQL, React, Node.js, Djang...</td>\n",
       "      <td>3+ years of experience in full -stack web deve...</td>\n",
       "      <td>Name: John Doe\\nEmail: john.doe@email.com\\nPho...</td>\n",
       "    </tr>\n",
       "    <tr>\n",
       "      <th>1</th>\n",
       "      <td>Olivia Martinez</td>\n",
       "      <td>92</td>\n",
       "      <td>+1 111 -222-3333</td>\n",
       "      <td>olivia.martinez@email.com</td>\n",
       "      <td>Python, R, SQL, TensorFlow, Keras, Bioconducto...</td>\n",
       "      <td>2017 -Present</td>\n",
       "      <td>Name: Olivia Martinez  \\nEmail:  olivia.martin...</td>\n",
       "    </tr>\n",
       "    <tr>\n",
       "      <th>2</th>\n",
       "      <td>Liam Turner</td>\n",
       "      <td>78</td>\n",
       "      <td>+1 333 -444-5555</td>\n",
       "      <td>liam.turner@email.com</td>\n",
       "      <td>Java, Kotlin, Python, Spring Boot, AWS Lambda,...</td>\n",
       "      <td>2019 -Present</td>\n",
       "      <td>Name: Liam Turner  \\nEmail:  liam.turner@email...</td>\n",
       "    </tr>\n",
       "    <tr>\n",
       "      <th>3</th>\n",
       "      <td>Ava Scott</td>\n",
       "      <td>88</td>\n",
       "      <td>+1 777 -888-9999</td>\n",
       "      <td>ava.scott@email.com</td>\n",
       "      <td>Figma, Sketch, Adobe XD</td>\n",
       "      <td>2018 -Present</td>\n",
       "      <td>Name: Ava Scott  \\nEmail:  ava.scott@email.com...</td>\n",
       "    </tr>\n",
       "    <tr>\n",
       "      <th>4</th>\n",
       "      <td>Ethan Hall</td>\n",
       "      <td>75</td>\n",
       "      <td>+1 555 -777-8888</td>\n",
       "      <td>ethan.hall@email.com</td>\n",
       "      <td>Kali Linux, Wireshark, Splunk</td>\n",
       "      <td>2019 -Present</td>\n",
       "      <td>Name: Ethan Hall  \\nEmail:  ethan.hall@email.c...</td>\n",
       "    </tr>\n",
       "  </tbody>\n",
       "</table>\n",
       "</div>"
      ],
      "text/plain": [
       "              NAME  MATCH_PERCENTAGE      PHONE_NUMBER  \\\n",
       "0         John Doe                85  +1 123 -456-7890   \n",
       "1  Olivia Martinez                92  +1 111 -222-3333   \n",
       "2      Liam Turner                78  +1 333 -444-5555   \n",
       "3        Ava Scott                88  +1 777 -888-9999   \n",
       "4       Ethan Hall                75  +1 555 -777-8888   \n",
       "\n",
       "               EMAIL_ADDRESS  \\\n",
       "0         john.doe@email.com   \n",
       "1  olivia.martinez@email.com   \n",
       "2      liam.turner@email.com   \n",
       "3        ava.scott@email.com   \n",
       "4       ethan.hall@email.com   \n",
       "\n",
       "                                              SKILLS  \\\n",
       "0  JavaScript, Python, SQL, React, Node.js, Djang...   \n",
       "1  Python, R, SQL, TensorFlow, Keras, Bioconducto...   \n",
       "2  Java, Kotlin, Python, Spring Boot, AWS Lambda,...   \n",
       "3                            Figma, Sketch, Adobe XD   \n",
       "4                      Kali Linux, Wireshark, Splunk   \n",
       "\n",
       "                                          EXPERIENCE  \\\n",
       "0  3+ years of experience in full -stack web deve...   \n",
       "1                                      2017 -Present   \n",
       "2                                      2019 -Present   \n",
       "3                                      2018 -Present   \n",
       "4                                      2019 -Present   \n",
       "\n",
       "                                      RESUME_CONTENT  \n",
       "0  Name: John Doe\\nEmail: john.doe@email.com\\nPho...  \n",
       "1  Name: Olivia Martinez  \\nEmail:  olivia.martin...  \n",
       "2  Name: Liam Turner  \\nEmail:  liam.turner@email...  \n",
       "3  Name: Ava Scott  \\nEmail:  ava.scott@email.com...  \n",
       "4  Name: Ethan Hall  \\nEmail:  ethan.hall@email.c...  "
      ]
     },
     "execution_count": 38,
     "metadata": {},
     "output_type": "execute_result"
    }
   ],
   "source": [
    "df.head()"
   ]
  },
  {
   "cell_type": "code",
   "execution_count": 44,
   "id": "bd4801f9",
   "metadata": {},
   "outputs": [
    {
     "name": "stdout",
     "output_type": "stream",
     "text": [
      "['john.doe@email.com', 'olivia.martinez@email.com', 'liam.turner@email.com', 'ava.scott@email.com', 'ethan.hall@email.com', 'daniel.adams@email.com', 'chloe.bennett@email.com', 'noah.carter@email.com', 'mia.foster@email.com', 'william.brooks@email.com', 'jane.smith@email.com', 'lily.parker@email.com', 'mark.johnson@email.com', 'sarah.lee@email.com', 'robert.wilson@email.com', 'emma.johnson@email.com', 'rahul.mehta@email.com', 'sophia.lee@email.com', 'carlos.rivera@email.com']\n"
     ]
    }
   ],
   "source": [
    "print(email_ids)"
   ]
  },
  {
   "cell_type": "code",
   "execution_count": null,
   "id": "bf33a570",
   "metadata": {},
   "outputs": [],
   "source": []
  }
 ],
 "metadata": {
  "kernelspec": {
   "display_name": "venv_genai",
   "language": "python",
   "name": "python3"
  },
  "language_info": {
   "codemirror_mode": {
    "name": "ipython",
    "version": 3
   },
   "file_extension": ".py",
   "mimetype": "text/x-python",
   "name": "python",
   "nbconvert_exporter": "python",
   "pygments_lexer": "ipython3",
   "version": "3.11.1"
  }
 },
 "nbformat": 4,
 "nbformat_minor": 5
}
